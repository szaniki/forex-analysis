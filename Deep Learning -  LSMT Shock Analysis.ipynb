{
 "cells": [
  {
   "cell_type": "markdown",
   "id": "7299015c",
   "metadata": {},
   "source": [
    "# Import libraries "
   ]
  },
  {
   "cell_type": "code",
   "execution_count": 1,
   "id": "e0fa5244",
   "metadata": {},
   "outputs": [
    {
     "name": "stderr",
     "output_type": "stream",
     "text": [
      "2022-11-06 10:31:16.061497: I tensorflow/core/platform/cpu_feature_guard.cc:193] This TensorFlow binary is optimized with oneAPI Deep Neural Network Library (oneDNN) to use the following CPU instructions in performance-critical operations:  AVX2 FMA\n",
      "To enable them in other operations, rebuild TensorFlow with the appropriate compiler flags.\n"
     ]
    }
   ],
   "source": [
    "import pandas as pd\n",
    "import numpy as np\n",
    "import os\n",
    "\n",
    "# Visualisation\n",
    "import matplotlib\n",
    "import matplotlib as mpl\n",
    "import matplotlib.pyplot as plt\n",
    "%matplotlib inline\n",
    "matplotlib.style.use(\"seaborn-colorblind\")\n",
    "\n",
    "import pandas_datareader.data as web\n",
    "from pandas_datareader import data as web\n",
    "from pandas import Series, DataFrame\n",
    "import datetime\n",
    "from operator import itemgetter # constructs a callable that assumes an iterable object (e.g. list, tuple, set) as input, and fetches the n-th element out of it.\n",
    "from datetime import datetime\n",
    "\n",
    "from datetime import datetime, timedelta\n",
    "\n",
    "import statsmodels.api as sm\n",
    "\n",
    "# Deep learning model\n",
    "import tensorflow as tf\n",
    "from tensorflow import keras\n",
    "from tensorflow.keras import layers\n",
    "import math\n",
    "import yfinance as yf\n",
    "from tensorflow.keras.layers import Dropout\n",
    "from sklearn.preprocessing import MinMaxScaler\n",
    "\n",
    "# Deep learning from class\n",
    "from tensorflow.python import tf2\n",
    "from keras.models import Sequential\n",
    "from keras.layers import Dense\n",
    "from tensorflow.keras.utils import to_categorical"
   ]
  },
  {
   "cell_type": "markdown",
   "id": "d381265a",
   "metadata": {},
   "source": [
    "# Reading in historical data from yahoo finance"
   ]
  },
  {
   "cell_type": "code",
   "execution_count": 2,
   "id": "595712ff",
   "metadata": {},
   "outputs": [],
   "source": [
    "covid_gbpusd = web.DataReader(\"GBPUSD=X\", \"yahoo\", start=datetime(2019, 1, 1), # using yahoo fincance api \n",
    "                   end=datetime(2022, 10, 31),\n",
    "                   )"
   ]
  },
  {
   "cell_type": "code",
   "execution_count": 3,
   "id": "d1027cc7",
   "metadata": {},
   "outputs": [
    {
     "data": {
      "text/html": [
       "<div>\n",
       "<style scoped>\n",
       "    .dataframe tbody tr th:only-of-type {\n",
       "        vertical-align: middle;\n",
       "    }\n",
       "\n",
       "    .dataframe tbody tr th {\n",
       "        vertical-align: top;\n",
       "    }\n",
       "\n",
       "    .dataframe thead th {\n",
       "        text-align: right;\n",
       "    }\n",
       "</style>\n",
       "<table border=\"1\" class=\"dataframe\">\n",
       "  <thead>\n",
       "    <tr style=\"text-align: right;\">\n",
       "      <th></th>\n",
       "      <th>High</th>\n",
       "      <th>Low</th>\n",
       "      <th>Open</th>\n",
       "      <th>Close</th>\n",
       "      <th>Volume</th>\n",
       "      <th>Adj Close</th>\n",
       "    </tr>\n",
       "    <tr>\n",
       "      <th>Date</th>\n",
       "      <th></th>\n",
       "      <th></th>\n",
       "      <th></th>\n",
       "      <th></th>\n",
       "      <th></th>\n",
       "      <th></th>\n",
       "    </tr>\n",
       "  </thead>\n",
       "  <tbody>\n",
       "    <tr>\n",
       "      <th>2019-01-01</th>\n",
       "      <td>1.275673</td>\n",
       "      <td>1.271456</td>\n",
       "      <td>1.275022</td>\n",
       "      <td>1.273804</td>\n",
       "      <td>0.0</td>\n",
       "      <td>1.273804</td>\n",
       "    </tr>\n",
       "    <tr>\n",
       "      <th>2019-01-02</th>\n",
       "      <td>1.277335</td>\n",
       "      <td>1.258463</td>\n",
       "      <td>1.275234</td>\n",
       "      <td>1.275429</td>\n",
       "      <td>0.0</td>\n",
       "      <td>1.275429</td>\n",
       "    </tr>\n",
       "    <tr>\n",
       "      <th>2019-01-03</th>\n",
       "      <td>1.263823</td>\n",
       "      <td>1.251878</td>\n",
       "      <td>1.251878</td>\n",
       "      <td>1.252191</td>\n",
       "      <td>0.0</td>\n",
       "      <td>1.252191</td>\n",
       "    </tr>\n",
       "    <tr>\n",
       "      <th>2019-01-04</th>\n",
       "      <td>1.273966</td>\n",
       "      <td>1.261782</td>\n",
       "      <td>1.262897</td>\n",
       "      <td>1.262881</td>\n",
       "      <td>0.0</td>\n",
       "      <td>1.262881</td>\n",
       "    </tr>\n",
       "    <tr>\n",
       "      <th>2019-01-07</th>\n",
       "      <td>1.278772</td>\n",
       "      <td>1.272426</td>\n",
       "      <td>1.273285</td>\n",
       "      <td>1.273496</td>\n",
       "      <td>0.0</td>\n",
       "      <td>1.273496</td>\n",
       "    </tr>\n",
       "    <tr>\n",
       "      <th>...</th>\n",
       "      <td>...</td>\n",
       "      <td>...</td>\n",
       "      <td>...</td>\n",
       "      <td>...</td>\n",
       "      <td>...</td>\n",
       "      <td>...</td>\n",
       "    </tr>\n",
       "    <tr>\n",
       "      <th>2022-10-25</th>\n",
       "      <td>1.162358</td>\n",
       "      <td>1.143419</td>\n",
       "      <td>1.146066</td>\n",
       "      <td>1.146224</td>\n",
       "      <td>0.0</td>\n",
       "      <td>1.146224</td>\n",
       "    </tr>\n",
       "    <tr>\n",
       "      <th>2022-10-26</th>\n",
       "      <td>1.164415</td>\n",
       "      <td>1.155095</td>\n",
       "      <td>1.163345</td>\n",
       "      <td>1.163819</td>\n",
       "      <td>0.0</td>\n",
       "      <td>1.163819</td>\n",
       "    </tr>\n",
       "    <tr>\n",
       "      <th>2022-10-27</th>\n",
       "      <td>1.160012</td>\n",
       "      <td>1.150616</td>\n",
       "      <td>1.156738</td>\n",
       "      <td>1.156604</td>\n",
       "      <td>0.0</td>\n",
       "      <td>1.156604</td>\n",
       "    </tr>\n",
       "    <tr>\n",
       "      <th>2022-10-31</th>\n",
       "      <td>1.161332</td>\n",
       "      <td>1.147987</td>\n",
       "      <td>1.160079</td>\n",
       "      <td>1.159595</td>\n",
       "      <td>0.0</td>\n",
       "      <td>1.159595</td>\n",
       "    </tr>\n",
       "    <tr>\n",
       "      <th>2022-11-01</th>\n",
       "      <td>1.156524</td>\n",
       "      <td>1.144675</td>\n",
       "      <td>1.147184</td>\n",
       "      <td>1.146815</td>\n",
       "      <td>0.0</td>\n",
       "      <td>1.146815</td>\n",
       "    </tr>\n",
       "  </tbody>\n",
       "</table>\n",
       "<p>1000 rows × 6 columns</p>\n",
       "</div>"
      ],
      "text/plain": [
       "                High       Low      Open     Close  Volume  Adj Close\n",
       "Date                                                                 \n",
       "2019-01-01  1.275673  1.271456  1.275022  1.273804     0.0   1.273804\n",
       "2019-01-02  1.277335  1.258463  1.275234  1.275429     0.0   1.275429\n",
       "2019-01-03  1.263823  1.251878  1.251878  1.252191     0.0   1.252191\n",
       "2019-01-04  1.273966  1.261782  1.262897  1.262881     0.0   1.262881\n",
       "2019-01-07  1.278772  1.272426  1.273285  1.273496     0.0   1.273496\n",
       "...              ...       ...       ...       ...     ...        ...\n",
       "2022-10-25  1.162358  1.143419  1.146066  1.146224     0.0   1.146224\n",
       "2022-10-26  1.164415  1.155095  1.163345  1.163819     0.0   1.163819\n",
       "2022-10-27  1.160012  1.150616  1.156738  1.156604     0.0   1.156604\n",
       "2022-10-31  1.161332  1.147987  1.160079  1.159595     0.0   1.159595\n",
       "2022-11-01  1.156524  1.144675  1.147184  1.146815     0.0   1.146815\n",
       "\n",
       "[1000 rows x 6 columns]"
      ]
     },
     "execution_count": 3,
     "metadata": {},
     "output_type": "execute_result"
    }
   ],
   "source": [
    "covid_gbpusd"
   ]
  },
  {
   "cell_type": "code",
   "execution_count": null,
   "id": "4f0fd9c8",
   "metadata": {},
   "outputs": [],
   "source": [
    "#covid_gbpusd = covid_gbpusd.reset_index(drop=True)\n",
    "#covid_gbpusd "
   ]
  },
  {
   "cell_type": "code",
   "execution_count": 4,
   "id": "9f5f8a0b",
   "metadata": {},
   "outputs": [
    {
     "data": {
      "text/plain": [
       "<matplotlib.legend.Legend at 0x7ff0a05aaee0>"
      ]
     },
     "execution_count": 4,
     "metadata": {},
     "output_type": "execute_result"
    },
    {
     "data": {
      "image/png": "[encoded data removed]",
      "text/plain": [
       "<Figure size 1600x800 with 1 Axes>"
      ]
     },
     "metadata": {},
     "output_type": "display_data"
    }
   ],
   "source": [
    "plt.figure(figsize=(16, 8))\n",
    "plt.title('Covid Shock')\n",
    "plt.plot(covid_gbpusd['Close'], label='Close')\n",
    "plt.xlabel('Date')\n",
    "plt.ylabel('GBP/USD exchange rate')\n",
    "plt.legend()"
   ]
  },
  {
   "cell_type": "code",
   "execution_count": null,
   "id": "c651ba04",
   "metadata": {},
   "outputs": [],
   "source": [
    "# The graph above suggests to zoom further in into the time frame of January 2020, where the \n",
    "# major fall happended until August/September 2020 when the market started to stabilise again."
   ]
  },
  {
   "cell_type": "code",
   "execution_count": 5,
   "id": "698ebdb1",
   "metadata": {},
   "outputs": [],
   "source": [
    "covid_peek_gbpusd = web.DataReader(\"GBPUSD=X\", \"yahoo\", start=datetime(2020, 1, 1),\n",
    "                   end=datetime(2020, 8, 31),\n",
    "                   )"
   ]
  },
  {
   "cell_type": "code",
   "execution_count": 6,
   "id": "e702c248",
   "metadata": {},
   "outputs": [
    {
     "data": {
      "text/plain": [
       "<matplotlib.legend.Legend at 0x7ff09fe97f70>"
      ]
     },
     "execution_count": 6,
     "metadata": {},
     "output_type": "execute_result"
    },
    {
     "data": {
      "image/png": "[encoded data removed]",
      "text/plain": [
       "<Figure size 1600x800 with 1 Axes>"
      ]
     },
     "metadata": {},
     "output_type": "display_data"
    }
   ],
   "source": [
    "plt.figure(figsize=(16, 8))\n",
    "plt.title('Covid Shock')\n",
    "plt.plot(covid_peek_gbpusd['Close'], label='Close')\n",
    "plt.xlabel('Date')\n",
    "plt.ylabel('GBP/USD exchange rate')\n",
    "plt.legend()"
   ]
  },
  {
   "cell_type": "code",
   "execution_count": null,
   "id": "dbd5495e",
   "metadata": {},
   "outputs": [],
   "source": [
    "# The next graph shows the big hit the currency exchange market suffered when COVID-19 virus\n",
    "# affected the whole economy. The World Health Organization (WHO) on March 11, 2020 declared \n",
    "# the coronavirus (COVID-19) outbreak a global pandemic. \n",
    "\n",
    "# 15 June 2020 the non essential retails reopened. \n",
    "# 24 June 2020 the Government issued long-awaited guidance documents to pubs, bars, \n",
    "# restaurants, hotels and other licensed premises, detailing how licensed premises could \n",
    "# open safely whilst minimising the risk of spreading COVID-19 (applicable to England only)."
   ]
  },
  {
   "cell_type": "code",
   "execution_count": 7,
   "id": "4a1e6f92",
   "metadata": {},
   "outputs": [
    {
     "data": {
      "text/plain": [
       "(4920, 6)"
      ]
     },
     "execution_count": 7,
     "metadata": {},
     "output_type": "execute_result"
    }
   ],
   "source": [
    "allcovid = web.DataReader(\"GBPUSD=X\", \"yahoo\", start=datetime(2000, 1, 1),\n",
    "                   end=datetime(2022, 10, 31),\n",
    "                   )\n",
    "\n",
    "#allcovid['Currency'] = 'GBP'\n",
    "allcovid.shape"
   ]
  },
  {
   "cell_type": "code",
   "execution_count": 8,
   "id": "7e1eeaaf",
   "metadata": {},
   "outputs": [
    {
     "data": {
      "text/html": [
       "<div>\n",
       "<style scoped>\n",
       "    .dataframe tbody tr th:only-of-type {\n",
       "        vertical-align: middle;\n",
       "    }\n",
       "\n",
       "    .dataframe tbody tr th {\n",
       "        vertical-align: top;\n",
       "    }\n",
       "\n",
       "    .dataframe thead th {\n",
       "        text-align: right;\n",
       "    }\n",
       "</style>\n",
       "<table border=\"1\" class=\"dataframe\">\n",
       "  <thead>\n",
       "    <tr style=\"text-align: right;\">\n",
       "      <th></th>\n",
       "      <th>High</th>\n",
       "      <th>Low</th>\n",
       "      <th>Open</th>\n",
       "      <th>Close</th>\n",
       "      <th>Volume</th>\n",
       "      <th>Adj Close</th>\n",
       "    </tr>\n",
       "    <tr>\n",
       "      <th>Date</th>\n",
       "      <th></th>\n",
       "      <th></th>\n",
       "      <th></th>\n",
       "      <th></th>\n",
       "      <th></th>\n",
       "      <th></th>\n",
       "    </tr>\n",
       "  </thead>\n",
       "  <tbody>\n",
       "    <tr>\n",
       "      <th>2015-01-01</th>\n",
       "      <td>1.558094</td>\n",
       "      <td>1.558094</td>\n",
       "      <td>1.558094</td>\n",
       "      <td>1.558094</td>\n",
       "      <td>0.0</td>\n",
       "      <td>1.558094</td>\n",
       "    </tr>\n",
       "    <tr>\n",
       "      <th>2015-01-02</th>\n",
       "      <td>1.558458</td>\n",
       "      <td>1.538746</td>\n",
       "      <td>1.558021</td>\n",
       "      <td>1.557972</td>\n",
       "      <td>0.0</td>\n",
       "      <td>1.557972</td>\n",
       "    </tr>\n",
       "    <tr>\n",
       "      <th>2015-01-05</th>\n",
       "      <td>1.532004</td>\n",
       "      <td>1.520612</td>\n",
       "      <td>1.528608</td>\n",
       "      <td>1.528491</td>\n",
       "      <td>0.0</td>\n",
       "      <td>1.528491</td>\n",
       "    </tr>\n",
       "    <tr>\n",
       "      <th>2015-01-06</th>\n",
       "      <td>1.527370</td>\n",
       "      <td>1.515795</td>\n",
       "      <td>1.525832</td>\n",
       "      <td>1.525832</td>\n",
       "      <td>0.0</td>\n",
       "      <td>1.525832</td>\n",
       "    </tr>\n",
       "    <tr>\n",
       "      <th>2015-01-07</th>\n",
       "      <td>1.515611</td>\n",
       "      <td>1.506796</td>\n",
       "      <td>1.513638</td>\n",
       "      <td>1.513798</td>\n",
       "      <td>0.0</td>\n",
       "      <td>1.513798</td>\n",
       "    </tr>\n",
       "    <tr>\n",
       "      <th>...</th>\n",
       "      <td>...</td>\n",
       "      <td>...</td>\n",
       "      <td>...</td>\n",
       "      <td>...</td>\n",
       "      <td>...</td>\n",
       "      <td>...</td>\n",
       "    </tr>\n",
       "    <tr>\n",
       "      <th>2022-10-25</th>\n",
       "      <td>1.162358</td>\n",
       "      <td>1.143419</td>\n",
       "      <td>1.146066</td>\n",
       "      <td>1.146224</td>\n",
       "      <td>0.0</td>\n",
       "      <td>1.146224</td>\n",
       "    </tr>\n",
       "    <tr>\n",
       "      <th>2022-10-26</th>\n",
       "      <td>1.164415</td>\n",
       "      <td>1.155095</td>\n",
       "      <td>1.163345</td>\n",
       "      <td>1.163819</td>\n",
       "      <td>0.0</td>\n",
       "      <td>1.163819</td>\n",
       "    </tr>\n",
       "    <tr>\n",
       "      <th>2022-10-27</th>\n",
       "      <td>1.160012</td>\n",
       "      <td>1.150616</td>\n",
       "      <td>1.156738</td>\n",
       "      <td>1.156604</td>\n",
       "      <td>0.0</td>\n",
       "      <td>1.156604</td>\n",
       "    </tr>\n",
       "    <tr>\n",
       "      <th>2022-10-31</th>\n",
       "      <td>1.161332</td>\n",
       "      <td>1.147987</td>\n",
       "      <td>1.160079</td>\n",
       "      <td>1.159595</td>\n",
       "      <td>0.0</td>\n",
       "      <td>1.159595</td>\n",
       "    </tr>\n",
       "    <tr>\n",
       "      <th>2022-11-01</th>\n",
       "      <td>1.156524</td>\n",
       "      <td>1.144675</td>\n",
       "      <td>1.147184</td>\n",
       "      <td>1.146815</td>\n",
       "      <td>0.0</td>\n",
       "      <td>1.146815</td>\n",
       "    </tr>\n",
       "  </tbody>\n",
       "</table>\n",
       "<p>2041 rows × 6 columns</p>\n",
       "</div>"
      ],
      "text/plain": [
       "                High       Low      Open     Close  Volume  Adj Close\n",
       "Date                                                                 \n",
       "2015-01-01  1.558094  1.558094  1.558094  1.558094     0.0   1.558094\n",
       "2015-01-02  1.558458  1.538746  1.558021  1.557972     0.0   1.557972\n",
       "2015-01-05  1.532004  1.520612  1.528608  1.528491     0.0   1.528491\n",
       "2015-01-06  1.527370  1.515795  1.525832  1.525832     0.0   1.525832\n",
       "2015-01-07  1.515611  1.506796  1.513638  1.513798     0.0   1.513798\n",
       "...              ...       ...       ...       ...     ...        ...\n",
       "2022-10-25  1.162358  1.143419  1.146066  1.146224     0.0   1.146224\n",
       "2022-10-26  1.164415  1.155095  1.163345  1.163819     0.0   1.163819\n",
       "2022-10-27  1.160012  1.150616  1.156738  1.156604     0.0   1.156604\n",
       "2022-10-31  1.161332  1.147987  1.160079  1.159595     0.0   1.159595\n",
       "2022-11-01  1.156524  1.144675  1.147184  1.146815     0.0   1.146815\n",
       "\n",
       "[2041 rows x 6 columns]"
      ]
     },
     "execution_count": 8,
     "metadata": {},
     "output_type": "execute_result"
    }
   ],
   "source": [
    "gbp_brexit = web.DataReader(\"GBPUSD=X\", \"yahoo\", start=datetime(2015, 1, 1),\n",
    "                   end=datetime(2022, 10, 31),\n",
    "                   )\n",
    "\n",
    "gbp_brexit"
   ]
  },
  {
   "cell_type": "markdown",
   "id": "1aac3ec8",
   "metadata": {},
   "source": [
    "# Covid : Long Short-Term Memory Model"
   ]
  },
  {
   "cell_type": "code",
   "execution_count": null,
   "id": "04814027",
   "metadata": {},
   "outputs": [],
   "source": [
    "import yfinance as yf\n",
    "from sklearn.preprocessing import MinMaxScaler \n",
    "import matplotlib.pyplot as plt\n",
    "import tensorflow as tf\n",
    "from tensorflow import keras\n",
    "from tensorflow.keras import layers"
   ]
  },
  {
   "cell_type": "code",
   "execution_count": 9,
   "id": "9f94b9e8",
   "metadata": {},
   "outputs": [],
   "source": [
    "gbptrain = web.DataReader(\"GBPUSD=X\", \"yahoo\", start=datetime(2000, 1, 1),\n",
    "                   end=datetime(2020, 2, 28), # as the Covid hit took place from March 2020\n",
    "                   )"
   ]
  },
  {
   "cell_type": "code",
   "execution_count": 10,
   "id": "bed06a1c",
   "metadata": {},
   "outputs": [
    {
     "data": {
      "text/plain": [
       "(4223, 6)"
      ]
     },
     "execution_count": 10,
     "metadata": {},
     "output_type": "execute_result"
    }
   ],
   "source": [
    "gbptrain.shape"
   ]
  },
  {
   "cell_type": "code",
   "execution_count": 11,
   "id": "ff06ab6a",
   "metadata": {},
   "outputs": [],
   "source": [
    "gbptest = web.DataReader(\"GBPUSD=X\", \"yahoo\", start=datetime(2021, 1, 1), # starting post covid shock date\n",
    "                   end=datetime(2022, 10, 31), # up till now\n",
    "                   )"
   ]
  },
  {
   "cell_type": "code",
   "execution_count": 12,
   "id": "3200681c",
   "metadata": {},
   "outputs": [
    {
     "data": {
      "text/plain": [
       "(478, 6)"
      ]
     },
     "execution_count": 12,
     "metadata": {},
     "output_type": "execute_result"
    }
   ],
   "source": [
    "gbptest.shape"
   ]
  },
  {
   "cell_type": "code",
   "execution_count": 13,
   "id": "8022cc81",
   "metadata": {},
   "outputs": [
    {
     "data": {
      "text/html": [
       "<div>\n",
       "<style scoped>\n",
       "    .dataframe tbody tr th:only-of-type {\n",
       "        vertical-align: middle;\n",
       "    }\n",
       "\n",
       "    .dataframe tbody tr th {\n",
       "        vertical-align: top;\n",
       "    }\n",
       "\n",
       "    .dataframe thead th {\n",
       "        text-align: right;\n",
       "    }\n",
       "</style>\n",
       "<table border=\"1\" class=\"dataframe\">\n",
       "  <thead>\n",
       "    <tr style=\"text-align: right;\">\n",
       "      <th></th>\n",
       "      <th>High</th>\n",
       "      <th>Low</th>\n",
       "      <th>Open</th>\n",
       "      <th>Close</th>\n",
       "      <th>Volume</th>\n",
       "      <th>Adj Close</th>\n",
       "    </tr>\n",
       "    <tr>\n",
       "      <th>Date</th>\n",
       "      <th></th>\n",
       "      <th></th>\n",
       "      <th></th>\n",
       "      <th></th>\n",
       "      <th></th>\n",
       "      <th></th>\n",
       "    </tr>\n",
       "  </thead>\n",
       "  <tbody>\n",
       "    <tr>\n",
       "      <th>2003-12-01</th>\n",
       "      <td>1.727205</td>\n",
       "      <td>1.718390</td>\n",
       "      <td>1.723811</td>\n",
       "      <td>1.718597</td>\n",
       "      <td>0.0</td>\n",
       "      <td>1.718597</td>\n",
       "    </tr>\n",
       "    <tr>\n",
       "      <th>2003-12-02</th>\n",
       "      <td>1.732112</td>\n",
       "      <td>1.717298</td>\n",
       "      <td>1.719010</td>\n",
       "      <td>1.730313</td>\n",
       "      <td>0.0</td>\n",
       "      <td>1.730313</td>\n",
       "    </tr>\n",
       "    <tr>\n",
       "      <th>2003-12-03</th>\n",
       "      <td>1.731812</td>\n",
       "      <td>1.725209</td>\n",
       "      <td>1.730493</td>\n",
       "      <td>1.728101</td>\n",
       "      <td>0.0</td>\n",
       "      <td>1.728101</td>\n",
       "    </tr>\n",
       "    <tr>\n",
       "      <th>2003-12-04</th>\n",
       "      <td>1.728997</td>\n",
       "      <td>1.718302</td>\n",
       "      <td>1.727414</td>\n",
       "      <td>1.720697</td>\n",
       "      <td>0.0</td>\n",
       "      <td>1.720697</td>\n",
       "    </tr>\n",
       "    <tr>\n",
       "      <th>2003-12-05</th>\n",
       "      <td>1.733102</td>\n",
       "      <td>1.719809</td>\n",
       "      <td>1.720608</td>\n",
       "      <td>1.733102</td>\n",
       "      <td>0.0</td>\n",
       "      <td>1.733102</td>\n",
       "    </tr>\n",
       "    <tr>\n",
       "      <th>...</th>\n",
       "      <td>...</td>\n",
       "      <td>...</td>\n",
       "      <td>...</td>\n",
       "      <td>...</td>\n",
       "      <td>...</td>\n",
       "      <td>...</td>\n",
       "    </tr>\n",
       "    <tr>\n",
       "      <th>2022-10-25</th>\n",
       "      <td>1.162358</td>\n",
       "      <td>1.143419</td>\n",
       "      <td>1.146066</td>\n",
       "      <td>1.146224</td>\n",
       "      <td>0.0</td>\n",
       "      <td>1.146224</td>\n",
       "    </tr>\n",
       "    <tr>\n",
       "      <th>2022-10-26</th>\n",
       "      <td>1.164415</td>\n",
       "      <td>1.155095</td>\n",
       "      <td>1.163345</td>\n",
       "      <td>1.163819</td>\n",
       "      <td>0.0</td>\n",
       "      <td>1.163819</td>\n",
       "    </tr>\n",
       "    <tr>\n",
       "      <th>2022-10-27</th>\n",
       "      <td>1.160012</td>\n",
       "      <td>1.150616</td>\n",
       "      <td>1.156738</td>\n",
       "      <td>1.156604</td>\n",
       "      <td>0.0</td>\n",
       "      <td>1.156604</td>\n",
       "    </tr>\n",
       "    <tr>\n",
       "      <th>2022-10-31</th>\n",
       "      <td>1.161332</td>\n",
       "      <td>1.147987</td>\n",
       "      <td>1.160079</td>\n",
       "      <td>1.159595</td>\n",
       "      <td>0.0</td>\n",
       "      <td>1.159595</td>\n",
       "    </tr>\n",
       "    <tr>\n",
       "      <th>2022-11-01</th>\n",
       "      <td>1.156524</td>\n",
       "      <td>1.144675</td>\n",
       "      <td>1.147184</td>\n",
       "      <td>1.146815</td>\n",
       "      <td>0.0</td>\n",
       "      <td>1.146815</td>\n",
       "    </tr>\n",
       "  </tbody>\n",
       "</table>\n",
       "<p>4701 rows × 6 columns</p>\n",
       "</div>"
      ],
      "text/plain": [
       "                High       Low      Open     Close  Volume  Adj Close\n",
       "Date                                                                 \n",
       "2003-12-01  1.727205  1.718390  1.723811  1.718597     0.0   1.718597\n",
       "2003-12-02  1.732112  1.717298  1.719010  1.730313     0.0   1.730313\n",
       "2003-12-03  1.731812  1.725209  1.730493  1.728101     0.0   1.728101\n",
       "2003-12-04  1.728997  1.718302  1.727414  1.720697     0.0   1.720697\n",
       "2003-12-05  1.733102  1.719809  1.720608  1.733102     0.0   1.733102\n",
       "...              ...       ...       ...       ...     ...        ...\n",
       "2022-10-25  1.162358  1.143419  1.146066  1.146224     0.0   1.146224\n",
       "2022-10-26  1.164415  1.155095  1.163345  1.163819     0.0   1.163819\n",
       "2022-10-27  1.160012  1.150616  1.156738  1.156604     0.0   1.156604\n",
       "2022-10-31  1.161332  1.147987  1.160079  1.159595     0.0   1.159595\n",
       "2022-11-01  1.156524  1.144675  1.147184  1.146815     0.0   1.146815\n",
       "\n",
       "[4701 rows x 6 columns]"
      ]
     },
     "execution_count": 13,
     "metadata": {},
     "output_type": "execute_result"
    }
   ],
   "source": [
    "merged = pd.concat([gbptrain, gbptest], axis=0)\n",
    "merged"
   ]
  },
  {
   "cell_type": "code",
   "execution_count": null,
   "id": "54e78f37",
   "metadata": {},
   "outputs": [],
   "source": [
    "# Using allcovid for close_prices\n",
    "# training_data_len : everything up until 2021 January = pre shock\n",
    "# test_data: everything from 2021 January = post shock"
   ]
  },
  {
   "cell_type": "code",
   "execution_count": 14,
   "id": "8b6254cb",
   "metadata": {},
   "outputs": [],
   "source": [
    "close_prices = allcovid['Close'] # 2000, 1, 1 - 2022, 10, 31,\n",
    "values = close_prices.values\n",
    "training_data_len = len(values[:-478])  # leaving out the recovery time period, startin 2021-1-1\n",
    "scaler = MinMaxScaler(feature_range=(0,1))\n",
    "scaled_data = scaler.fit_transform(values.reshape(-1,1))\n",
    "train_data = scaled_data[0: training_data_len, :] #\n",
    "x_train = []\n",
    "y_train = []\n",
    "    \n",
    "    \n",
    "for i in range(60, len(train_data)): #\n",
    "    x_train.append(train_data[i-60:i, 0]) #\n",
    "    y_train.append(train_data[i, 0]) #\n",
    "x_train, y_train = np.array(x_train), np.array(y_train)\n",
    "x_train = np.reshape(x_train, (x_train.shape[0], x_train.shape[1], 1))\n",
    "test_data = scaled_data[4442:] #\n",
    "x_test = []\n",
    "#y_test = len(values[4442:])\n",
    "y_test = values[4442:]   \n",
    "    \n",
    "for i in range(60, len(test_data)): #\n",
    "    x_test.append(test_data[i-60:i, 0]) #\n",
    "\n",
    "label_save= x_test    \n",
    "x_test = np.array(x_test)\n",
    "x_test = np.reshape(x_test, (x_test.shape[0], x_test.shape[1], 1))"
   ]
  },
  {
   "cell_type": "code",
   "execution_count": null,
   "id": "d3dbddeb",
   "metadata": {},
   "outputs": [],
   "source": [
    "#y_test"
   ]
  },
  {
   "cell_type": "code",
   "execution_count": 15,
   "id": "33063a0b",
   "metadata": {},
   "outputs": [
    {
     "data": {
      "text/plain": [
       "((4382, 60, 1), (418, 60, 1))"
      ]
     },
     "execution_count": 15,
     "metadata": {},
     "output_type": "execute_result"
    }
   ],
   "source": [
    "x_train.shape, x_test.shape"
   ]
  },
  {
   "cell_type": "code",
   "execution_count": null,
   "id": "da8b834e",
   "metadata": {},
   "outputs": [],
   "source": [
    "### Setting up the machine learning network arhitecture"
   ]
  },
  {
   "cell_type": "code",
   "execution_count": 16,
   "id": "1eacaa4f",
   "metadata": {},
   "outputs": [
    {
     "name": "stderr",
     "output_type": "stream",
     "text": [
      "2022-11-06 10:33:41.524835: I tensorflow/core/platform/cpu_feature_guard.cc:193] This TensorFlow binary is optimized with oneAPI Deep Neural Network Library (oneDNN) to use the following CPU instructions in performance-critical operations:  AVX2 FMA\n",
      "To enable them in other operations, rebuild TensorFlow with the appropriate compiler flags.\n"
     ]
    },
    {
     "name": "stdout",
     "output_type": "stream",
     "text": [
      "Model: \"sequential\"\n",
      "_________________________________________________________________\n",
      " Layer (type)                Output Shape              Param #   \n",
      "=================================================================\n",
      " lstm (LSTM)                 (None, 60, 100)           40800     \n",
      "                                                                 \n",
      " lstm_1 (LSTM)               (None, 100)               80400     \n",
      "                                                                 \n",
      " dense (Dense)               (None, 25)                2525      \n",
      "                                                                 \n",
      " dense_1 (Dense)             (None, 1)                 26        \n",
      "                                                                 \n",
      "=================================================================\n",
      "Total params: 123,751\n",
      "Trainable params: 123,751\n",
      "Non-trainable params: 0\n",
      "_________________________________________________________________\n",
      "CPU times: user 1.12 s, sys: 48.1 ms, total: 1.16 s\n",
      "Wall time: 1.58 s\n"
     ]
    }
   ],
   "source": [
    "%%time\n",
    "model = keras.Sequential()\n",
    "model.add(layers.LSTM(100, return_sequences=True, input_shape=(x_train.shape[1], 1))) # return=True so the output of the layer will be another sequence of the same length\n",
    "model.add(layers.LSTM(100, return_sequences=False)) # reture=false to only return the last output in the output sequence\n",
    "model.add(layers.Dense(25))\n",
    "model.add(layers.Dense(1))\n",
    "model.summary()"
   ]
  },
  {
   "cell_type": "code",
   "execution_count": 17,
   "id": "2d8166df",
   "metadata": {},
   "outputs": [
    {
     "name": "stdout",
     "output_type": "stream",
     "text": [
      "Epoch 1/20\n",
      "147/147 [==============================] - 34s 167ms/step - loss: 0.0061\n",
      "Epoch 2/20\n",
      "147/147 [==============================] - 24s 165ms/step - loss: 4.0635e-04\n",
      "Epoch 3/20\n",
      "147/147 [==============================] - 32s 221ms/step - loss: 3.8701e-04\n",
      "Epoch 4/20\n",
      "147/147 [==============================] - 26s 177ms/step - loss: 3.7819e-04\n",
      "Epoch 5/20\n",
      "147/147 [==============================] - 25s 171ms/step - loss: 3.3208e-04\n",
      "Epoch 6/20\n",
      "147/147 [==============================] - 23s 157ms/step - loss: 3.4857e-04\n",
      "Epoch 7/20\n",
      "147/147 [==============================] - 27s 182ms/step - loss: 3.1066e-04\n",
      "Epoch 8/20\n",
      "147/147 [==============================] - 23s 155ms/step - loss: 3.1245e-04\n",
      "Epoch 9/20\n",
      "147/147 [==============================] - 29s 199ms/step - loss: 2.6640e-04\n",
      "Epoch 10/20\n",
      "147/147 [==============================] - 28s 194ms/step - loss: 2.6329e-04\n",
      "Epoch 11/20\n",
      "147/147 [==============================] - 24s 164ms/step - loss: 2.3576e-04\n",
      "Epoch 12/20\n",
      "147/147 [==============================] - 23s 158ms/step - loss: 2.3795e-04\n",
      "Epoch 13/20\n",
      "147/147 [==============================] - 22s 147ms/step - loss: 2.1959e-04\n",
      "Epoch 14/20\n",
      "147/147 [==============================] - 21s 144ms/step - loss: 1.9629e-04\n",
      "Epoch 15/20\n",
      "147/147 [==============================] - 22s 151ms/step - loss: 2.0372e-04\n",
      "Epoch 16/20\n",
      "147/147 [==============================] - 32s 219ms/step - loss: 1.6630e-04\n",
      "Epoch 17/20\n",
      "147/147 [==============================] - 25s 169ms/step - loss: 1.5736e-04\n",
      "Epoch 18/20\n",
      "147/147 [==============================] - 24s 161ms/step - loss: 1.6289e-04\n",
      "Epoch 19/20\n",
      "147/147 [==============================] - 27s 182ms/step - loss: 1.4475e-04\n",
      "Epoch 20/20\n",
      "147/147 [==============================] - 26s 177ms/step - loss: 1.5669e-04\n",
      "CPU times: user 12min 42s, sys: 1min 36s, total: 14min 18s\n",
      "Wall time: 9min 30s\n"
     ]
    },
    {
     "data": {
      "text/plain": [
       "<keras.callbacks.History at 0x7ff0a1589400>"
      ]
     },
     "execution_count": 17,
     "metadata": {},
     "output_type": "execute_result"
    }
   ],
   "source": [
    "%%time\n",
    "model.compile(optimizer='adam', loss='mean_squared_error')\n",
    "model.fit(x_train, y_train, batch_size= 30, epochs=20)"
   ]
  },
  {
   "cell_type": "code",
   "execution_count": 19,
   "id": "db85a713",
   "metadata": {},
   "outputs": [
    {
     "name": "stdout",
     "output_type": "stream",
     "text": [
      "14/14 [==============================] - 1s 71ms/step\n"
     ]
    },
    {
     "data": {
      "text/plain": [
       "0.0016499119932230394"
      ]
     },
     "execution_count": 19,
     "metadata": {},
     "output_type": "execute_result"
    }
   ],
   "source": [
    "predictions = model.predict(x_test)\n",
    "predictions = scaler.inverse_transform(predictions)\n",
    "rmse = np.sqrt(np.mean(predictions - y_test)**2)\n",
    "rmse"
   ]
  },
  {
   "cell_type": "markdown",
   "id": "16fef94e",
   "metadata": {},
   "source": [
    "# Shock analysis - LSTM Model 2"
   ]
  },
  {
   "cell_type": "code",
   "execution_count": null,
   "id": "5e31c220",
   "metadata": {},
   "outputs": [],
   "source": [
    "# Running again the model with 2020-12-31 / 2021-1-1 split but different batch and epoch size"
   ]
  },
  {
   "cell_type": "code",
   "execution_count": 26,
   "id": "96f05b28",
   "metadata": {},
   "outputs": [],
   "source": [
    "close_prices = allcovid['Close'] # 2000, 1, 1 - 2022, 10, 31,\n",
    "values = close_prices.values\n",
    "training_data_len = len(values[:-478]) # up until 2021-1-1\n",
    "scaler = MinMaxScaler(feature_range=(0,1))\n",
    "scaled_data = scaler.fit_transform(values.reshape(-1,1))\n",
    "train_data = scaled_data[0: training_data_len, :] #\n",
    "x_train = []\n",
    "y_train = []\n",
    "    \n",
    "    \n",
    "for i in range(60, len(train_data)): #\n",
    "    x_train.append(train_data[i-60:i, 0]) #\n",
    "    y_train.append(train_data[i, 0]) #\n",
    "x_train, y_train = np.array(x_train), np.array(y_train)\n",
    "x_train = np.reshape(x_train, (x_train.shape[0], x_train.shape[1], 1))\n",
    "test_data = scaled_data[4442:] # using everything up til 2020-12-31\n",
    "x_test = []\n",
    "y_test = values[4442:]\n",
    "    \n",
    "    \n",
    "for i in range(60, len(test_data)): #\n",
    "    x_test.append(test_data[i-60:i, 0]) #\n",
    "x_test = np.array(x_test)\n",
    "x_test = np.reshape(x_test, (x_test.shape[0], x_test.shape[1], 1))"
   ]
  },
  {
   "cell_type": "code",
   "execution_count": 27,
   "id": "45b9edfb",
   "metadata": {},
   "outputs": [
    {
     "name": "stdout",
     "output_type": "stream",
     "text": [
      "Model: \"sequential_1\"\n",
      "_________________________________________________________________\n",
      " Layer (type)                Output Shape              Param #   \n",
      "=================================================================\n",
      " lstm_2 (LSTM)               (None, 60, 100)           40800     \n",
      "                                                                 \n",
      " lstm_3 (LSTM)               (None, 100)               80400     \n",
      "                                                                 \n",
      " dense_2 (Dense)             (None, 25)                2525      \n",
      "                                                                 \n",
      " dense_3 (Dense)             (None, 1)                 26        \n",
      "                                                                 \n",
      "=================================================================\n",
      "Total params: 123,751\n",
      "Trainable params: 123,751\n",
      "Non-trainable params: 0\n",
      "_________________________________________________________________\n",
      "CPU times: user 1.1 s, sys: 22.9 ms, total: 1.12 s\n",
      "Wall time: 1.67 s\n"
     ]
    }
   ],
   "source": [
    "%%time\n",
    "model2 = keras.Sequential()\n",
    "model2.add(layers.LSTM(100, return_sequences=True, input_shape=(x_train.shape[1], 1))) # return=True so the output of the layer will be another sequence of the same length\n",
    "model2.add(layers.LSTM(100, return_sequences=False)) # reture=false to only return the last output in the output sequence\n",
    "model2.add(layers.Dense(25))\n",
    "model2.add(layers.Dense(1))\n",
    "model2.summary()"
   ]
  },
  {
   "cell_type": "code",
   "execution_count": 28,
   "id": "51180a3d",
   "metadata": {},
   "outputs": [
    {
     "name": "stdout",
     "output_type": "stream",
     "text": [
      "Epoch 1/100\n",
      "147/147 [==============================] - 33s 166ms/step - loss: 0.0158 - mean_squared_error: 0.0158\n",
      "Epoch 2/100\n",
      "147/147 [==============================] - 23s 157ms/step - loss: 6.0124e-04 - mean_squared_error: 6.0124e-04\n",
      "Epoch 3/100\n",
      "147/147 [==============================] - 23s 159ms/step - loss: 5.6159e-04 - mean_squared_error: 5.6159e-04\n",
      "Epoch 4/100\n",
      "147/147 [==============================] - 27s 181ms/step - loss: 5.4665e-04 - mean_squared_error: 5.4665e-04\n",
      "Epoch 5/100\n",
      "147/147 [==============================] - 24s 161ms/step - loss: 5.2737e-04 - mean_squared_error: 5.2737e-04\n",
      "Epoch 6/100\n",
      "147/147 [==============================] - 23s 154ms/step - loss: 5.1067e-04 - mean_squared_error: 5.1067e-04\n",
      "Epoch 7/100\n",
      "147/147 [==============================] - 22s 147ms/step - loss: 4.9474e-04 - mean_squared_error: 4.9474e-04\n",
      "Epoch 8/100\n",
      "147/147 [==============================] - 22s 146ms/step - loss: 4.6983e-04 - mean_squared_error: 4.6983e-04\n",
      "Epoch 9/100\n",
      "147/147 [==============================] - 21s 144ms/step - loss: 4.5417e-04 - mean_squared_error: 4.5417e-04\n",
      "Epoch 10/100\n",
      "147/147 [==============================] - 22s 149ms/step - loss: 4.4201e-04 - mean_squared_error: 4.4201e-04\n",
      "Epoch 11/100\n",
      "147/147 [==============================] - 21s 145ms/step - loss: 4.3429e-04 - mean_squared_error: 4.3429e-04\n",
      "Epoch 12/100\n",
      "147/147 [==============================] - 22s 151ms/step - loss: 4.0580e-04 - mean_squared_error: 4.0580e-04\n",
      "Epoch 13/100\n",
      "147/147 [==============================] - 24s 162ms/step - loss: 3.8417e-04 - mean_squared_error: 3.8417e-04\n",
      "Epoch 14/100\n",
      "147/147 [==============================] - 22s 149ms/step - loss: 3.7599e-04 - mean_squared_error: 3.7599e-04\n",
      "Epoch 15/100\n",
      "147/147 [==============================] - 23s 159ms/step - loss: 3.6426e-04 - mean_squared_error: 3.6426e-04\n",
      "Epoch 16/100\n",
      "147/147 [==============================] - 29s 198ms/step - loss: 3.6091e-04 - mean_squared_error: 3.6091e-04\n",
      "Epoch 17/100\n",
      "147/147 [==============================] - 27s 185ms/step - loss: 3.4430e-04 - mean_squared_error: 3.4430e-04\n",
      "Epoch 18/100\n",
      "147/147 [==============================] - 33s 221ms/step - loss: 3.4040e-04 - mean_squared_error: 3.4040e-04\n",
      "Epoch 19/100\n",
      "147/147 [==============================] - 28s 191ms/step - loss: 3.2996e-04 - mean_squared_error: 3.2996e-04\n",
      "Epoch 20/100\n",
      "147/147 [==============================] - 30s 205ms/step - loss: 3.1851e-04 - mean_squared_error: 3.1851e-04\n",
      "Epoch 21/100\n",
      "147/147 [==============================] - 28s 191ms/step - loss: 3.2667e-04 - mean_squared_error: 3.2667e-04\n",
      "Epoch 22/100\n",
      "147/147 [==============================] - 25s 170ms/step - loss: 3.0999e-04 - mean_squared_error: 3.0999e-04\n",
      "Epoch 23/100\n",
      "147/147 [==============================] - 25s 171ms/step - loss: 2.9585e-04 - mean_squared_error: 2.9585e-04\n",
      "Epoch 24/100\n",
      "147/147 [==============================] - 23s 154ms/step - loss: 2.8712e-04 - mean_squared_error: 2.8712e-04\n",
      "Epoch 25/100\n",
      "147/147 [==============================] - 25s 169ms/step - loss: 2.8099e-04 - mean_squared_error: 2.8099e-04\n",
      "Epoch 26/100\n",
      "147/147 [==============================] - 26s 177ms/step - loss: 3.0744e-04 - mean_squared_error: 3.0744e-04\n",
      "Epoch 27/100\n",
      "147/147 [==============================] - 22s 152ms/step - loss: 2.7337e-04 - mean_squared_error: 2.7337e-04\n",
      "Epoch 28/100\n",
      "147/147 [==============================] - 22s 151ms/step - loss: 2.7006e-04 - mean_squared_error: 2.7006e-04\n",
      "Epoch 29/100\n",
      "147/147 [==============================] - 24s 162ms/step - loss: 2.5723e-04 - mean_squared_error: 2.5723e-04\n",
      "Epoch 30/100\n",
      "147/147 [==============================] - 28s 190ms/step - loss: 3.1387e-04 - mean_squared_error: 3.1387e-04\n",
      "Epoch 31/100\n",
      "147/147 [==============================] - 24s 160ms/step - loss: 2.5146e-04 - mean_squared_error: 2.5146e-04\n",
      "Epoch 32/100\n",
      "147/147 [==============================] - 25s 172ms/step - loss: 2.4737e-04 - mean_squared_error: 2.4737e-04\n",
      "Epoch 33/100\n",
      "147/147 [==============================] - 25s 168ms/step - loss: 2.4323e-04 - mean_squared_error: 2.4323e-04\n",
      "Epoch 34/100\n",
      "147/147 [==============================] - 24s 160ms/step - loss: 2.4779e-04 - mean_squared_error: 2.4779e-04\n",
      "Epoch 35/100\n",
      "147/147 [==============================] - 25s 167ms/step - loss: 2.4009e-04 - mean_squared_error: 2.4009e-04\n",
      "Epoch 36/100\n",
      "147/147 [==============================] - 26s 174ms/step - loss: 2.3654e-04 - mean_squared_error: 2.3654e-04\n",
      "Epoch 37/100\n",
      "147/147 [==============================] - 20s 134ms/step - loss: 2.2854e-04 - mean_squared_error: 2.2854e-04\n",
      "Epoch 38/100\n",
      "147/147 [==============================] - 21s 144ms/step - loss: 2.2351e-04 - mean_squared_error: 2.2351e-04\n",
      "Epoch 39/100\n",
      "147/147 [==============================] - 20s 138ms/step - loss: 2.2520e-04 - mean_squared_error: 2.2520e-04\n",
      "Epoch 40/100\n",
      "147/147 [==============================] - 27s 185ms/step - loss: 2.1577e-04 - mean_squared_error: 2.1577e-04\n",
      "Epoch 41/100\n",
      "147/147 [==============================] - 23s 154ms/step - loss: 2.2278e-04 - mean_squared_error: 2.2278e-04\n",
      "Epoch 42/100\n",
      "147/147 [==============================] - 29s 194ms/step - loss: 2.0904e-04 - mean_squared_error: 2.0904e-04\n",
      "Epoch 43/100\n",
      "147/147 [==============================] - 24s 162ms/step - loss: 2.0385e-04 - mean_squared_error: 2.0385e-04\n",
      "Epoch 44/100\n",
      "147/147 [==============================] - 24s 166ms/step - loss: 2.0782e-04 - mean_squared_error: 2.0782e-04\n",
      "Epoch 45/100\n",
      "147/147 [==============================] - 25s 172ms/step - loss: 2.0892e-04 - mean_squared_error: 2.0892e-04\n",
      "Epoch 46/100\n",
      "147/147 [==============================] - 23s 160ms/step - loss: 1.9335e-04 - mean_squared_error: 1.9335e-04\n",
      "Epoch 47/100\n",
      "147/147 [==============================] - 22s 151ms/step - loss: 1.9832e-04 - mean_squared_error: 1.9832e-04\n",
      "Epoch 48/100\n",
      "147/147 [==============================] - 22s 152ms/step - loss: 1.9586e-04 - mean_squared_error: 1.9586e-04\n",
      "Epoch 49/100\n",
      "147/147 [==============================] - 28s 189ms/step - loss: 1.9085e-04 - mean_squared_error: 1.9085e-04\n",
      "Epoch 50/100\n",
      "147/147 [==============================] - 25s 170ms/step - loss: 1.7559e-04 - mean_squared_error: 1.7559e-04\n",
      "Epoch 51/100\n",
      "147/147 [==============================] - 23s 153ms/step - loss: 1.7634e-04 - mean_squared_error: 1.7634e-04\n",
      "Epoch 52/100\n",
      "147/147 [==============================] - 25s 170ms/step - loss: 1.7853e-04 - mean_squared_error: 1.7853e-04\n",
      "Epoch 53/100\n",
      "147/147 [==============================] - 24s 164ms/step - loss: 1.6663e-04 - mean_squared_error: 1.6663e-04\n",
      "Epoch 54/100\n",
      "147/147 [==============================] - 27s 181ms/step - loss: 1.7197e-04 - mean_squared_error: 1.7197e-04\n",
      "Epoch 55/100\n",
      "147/147 [==============================] - 26s 174ms/step - loss: 1.6083e-04 - mean_squared_error: 1.6083e-04\n",
      "Epoch 56/100\n",
      "147/147 [==============================] - 29s 199ms/step - loss: 1.5752e-04 - mean_squared_error: 1.5752e-04\n",
      "Epoch 57/100\n",
      "147/147 [==============================] - 39s 264ms/step - loss: 1.6458e-04 - mean_squared_error: 1.6458e-04\n",
      "Epoch 58/100\n",
      "147/147 [==============================] - 37s 251ms/step - loss: 1.5645e-04 - mean_squared_error: 1.5645e-04\n",
      "Epoch 59/100\n",
      "147/147 [==============================] - 23s 157ms/step - loss: 1.5145e-04 - mean_squared_error: 1.5145e-04\n",
      "Epoch 60/100\n",
      "147/147 [==============================] - 31s 209ms/step - loss: 1.5232e-04 - mean_squared_error: 1.5232e-04\n",
      "Epoch 61/100\n",
      "147/147 [==============================] - 30s 203ms/step - loss: 1.5591e-04 - mean_squared_error: 1.5591e-04\n",
      "Epoch 62/100\n",
      "147/147 [==============================] - 27s 183ms/step - loss: 1.4647e-04 - mean_squared_error: 1.4647e-04\n",
      "Epoch 63/100\n",
      "147/147 [==============================] - 25s 167ms/step - loss: 1.4955e-04 - mean_squared_error: 1.4955e-04\n",
      "Epoch 64/100\n",
      "147/147 [==============================] - 25s 173ms/step - loss: 1.4331e-04 - mean_squared_error: 1.4331e-04\n",
      "Epoch 65/100\n",
      "147/147 [==============================] - 26s 178ms/step - loss: 1.5431e-04 - mean_squared_error: 1.5431e-04\n",
      "Epoch 66/100\n",
      "147/147 [==============================] - 26s 178ms/step - loss: 1.3200e-04 - mean_squared_error: 1.3200e-04\n",
      "Epoch 67/100\n"
     ]
    },
    {
     "name": "stdout",
     "output_type": "stream",
     "text": [
      "147/147 [==============================] - 23s 158ms/step - loss: 1.2942e-04 - mean_squared_error: 1.2942e-04\n",
      "Epoch 68/100\n",
      "147/147 [==============================] - 27s 184ms/step - loss: 1.3006e-04 - mean_squared_error: 1.3006e-04\n",
      "Epoch 69/100\n",
      "147/147 [==============================] - 29s 198ms/step - loss: 1.2995e-04 - mean_squared_error: 1.2995e-04\n",
      "Epoch 70/100\n",
      "147/147 [==============================] - 28s 192ms/step - loss: 1.2819e-04 - mean_squared_error: 1.2819e-04\n",
      "Epoch 71/100\n",
      "147/147 [==============================] - 25s 172ms/step - loss: 1.2831e-04 - mean_squared_error: 1.2831e-04\n",
      "Epoch 72/100\n",
      "147/147 [==============================] - 28s 190ms/step - loss: 1.2265e-04 - mean_squared_error: 1.2265e-04\n",
      "Epoch 73/100\n",
      "147/147 [==============================] - 28s 189ms/step - loss: 1.1976e-04 - mean_squared_error: 1.1976e-04\n",
      "Epoch 74/100\n",
      "147/147 [==============================] - 31s 208ms/step - loss: 1.1620e-04 - mean_squared_error: 1.1620e-04\n",
      "Epoch 75/100\n",
      "147/147 [==============================] - 25s 171ms/step - loss: 1.1589e-04 - mean_squared_error: 1.1589e-04\n",
      "Epoch 76/100\n",
      "147/147 [==============================] - 24s 165ms/step - loss: 1.1491e-04 - mean_squared_error: 1.1491e-04\n",
      "Epoch 77/100\n",
      "147/147 [==============================] - 30s 205ms/step - loss: 1.1419e-04 - mean_squared_error: 1.1419e-04\n",
      "Epoch 78/100\n",
      "147/147 [==============================] - 28s 193ms/step - loss: 1.1432e-04 - mean_squared_error: 1.1432e-04\n",
      "Epoch 79/100\n",
      "147/147 [==============================] - 28s 192ms/step - loss: 1.1472e-04 - mean_squared_error: 1.1472e-04\n",
      "Epoch 80/100\n",
      "147/147 [==============================] - 28s 190ms/step - loss: 1.1012e-04 - mean_squared_error: 1.1012e-04\n",
      "Epoch 81/100\n",
      "147/147 [==============================] - 30s 206ms/step - loss: 1.1507e-04 - mean_squared_error: 1.1507e-04\n",
      "Epoch 82/100\n",
      "147/147 [==============================] - 25s 167ms/step - loss: 1.0808e-04 - mean_squared_error: 1.0808e-04\n",
      "Epoch 83/100\n",
      "147/147 [==============================] - 23s 159ms/step - loss: 1.0925e-04 - mean_squared_error: 1.0925e-04\n",
      "Epoch 84/100\n",
      "147/147 [==============================] - 24s 162ms/step - loss: 1.0304e-04 - mean_squared_error: 1.0304e-04\n",
      "Epoch 85/100\n",
      "147/147 [==============================] - 25s 167ms/step - loss: 1.0283e-04 - mean_squared_error: 1.0283e-04\n",
      "Epoch 86/100\n",
      "147/147 [==============================] - 24s 164ms/step - loss: 1.0454e-04 - mean_squared_error: 1.0454e-04\n",
      "Epoch 87/100\n",
      "147/147 [==============================] - 23s 159ms/step - loss: 1.0622e-04 - mean_squared_error: 1.0622e-04\n",
      "Epoch 88/100\n",
      "147/147 [==============================] - 24s 164ms/step - loss: 1.0494e-04 - mean_squared_error: 1.0494e-04\n",
      "Epoch 89/100\n",
      "147/147 [==============================] - 23s 159ms/step - loss: 9.8494e-05 - mean_squared_error: 9.8494e-05\n",
      "Epoch 90/100\n",
      "147/147 [==============================] - 26s 179ms/step - loss: 9.9552e-05 - mean_squared_error: 9.9552e-05\n",
      "Epoch 91/100\n",
      "147/147 [==============================] - 23s 155ms/step - loss: 9.6449e-05 - mean_squared_error: 9.6449e-05\n",
      "Epoch 92/100\n",
      "147/147 [==============================] - 23s 155ms/step - loss: 9.7166e-05 - mean_squared_error: 9.7166e-05\n",
      "Epoch 93/100\n",
      "147/147 [==============================] - 23s 153ms/step - loss: 9.4938e-05 - mean_squared_error: 9.4938e-05\n",
      "Epoch 94/100\n",
      "147/147 [==============================] - 25s 172ms/step - loss: 9.7837e-05 - mean_squared_error: 9.7837e-05\n",
      "Epoch 95/100\n",
      "147/147 [==============================] - 22s 148ms/step - loss: 9.2058e-05 - mean_squared_error: 9.2058e-05\n",
      "Epoch 96/100\n",
      "147/147 [==============================] - 25s 169ms/step - loss: 9.9939e-05 - mean_squared_error: 9.9939e-05\n",
      "Epoch 97/100\n",
      "147/147 [==============================] - 24s 164ms/step - loss: 9.4271e-05 - mean_squared_error: 9.4271e-05\n",
      "Epoch 98/100\n",
      "147/147 [==============================] - 23s 158ms/step - loss: 9.2514e-05 - mean_squared_error: 9.2514e-05\n",
      "Epoch 99/100\n",
      "147/147 [==============================] - 30s 203ms/step - loss: 9.2340e-05 - mean_squared_error: 9.2340e-05\n",
      "Epoch 100/100\n",
      "147/147 [==============================] - 28s 188ms/step - loss: 9.1275e-05 - mean_squared_error: 9.1275e-05\n",
      "CPU times: user 1h 3min 1s, sys: 7min 57s, total: 1h 10min 58s\n",
      "Wall time: 42min 26s\n"
     ]
    },
    {
     "data": {
      "text/plain": [
       "<keras.callbacks.History at 0x7ff0ac3c2a90>"
      ]
     },
     "execution_count": 28,
     "metadata": {},
     "output_type": "execute_result"
    }
   ],
   "source": [
    "%%time\n",
    "from tensorflow.keras.optimizers import *\n",
    "optimizer = Adam(learning_rate=0.0001)\n",
    "model2.compile(optimizer=optimizer, metrics=['mean_squared_error'], loss='mean_squared_error')\n",
    "model2.fit(x_train, y_train, batch_size= 30, epochs=100)\n",
    "\n",
    "#optimizer = Adam(learning_rate=0.0001)\n",
    "#model.compile(loss='categorical_crossentropy',\n",
    "#              optimizer=optimizer, \n",
    "#              metrics=['accuracy'])"
   ]
  },
  {
   "cell_type": "code",
   "execution_count": 30,
   "id": "d58fc251",
   "metadata": {},
   "outputs": [
    {
     "name": "stdout",
     "output_type": "stream",
     "text": [
      "14/14 [==============================] - 1s 59ms/step\n"
     ]
    },
    {
     "data": {
      "text/plain": [
       "0.00913991321994937"
      ]
     },
     "execution_count": 30,
     "metadata": {},
     "output_type": "execute_result"
    }
   ],
   "source": [
    "predictions2 = model2.predict(x_test)\n",
    "predictions2 = scaler.inverse_transform(predictions2)\n",
    "rmse = np.sqrt(np.mean(predictions2 - y_test)**2)\n",
    "rmse"
   ]
  },
  {
   "cell_type": "code",
   "execution_count": null,
   "id": "c3eecfc9",
   "metadata": {},
   "outputs": [],
   "source": [
    "Evaluation of LSMT Shock Analysis: \n",
    "    \n",
    "    0.0016499119932230394 rmse, batch_size 30 + epoch = 20 the better performing model\n",
    "    0.00913991321994937 rmse\n",
    "    \n",
    "Both outputs of the shock analyis targeting the effects of Covid virus seem fairly acceptable. This project was \n",
    "carried out purely for eductional purposes, in which circumstances it does not serve as suggestion when to \n",
    "invest or when to buy. The rmse rates are quite low, generally speaking the models are performing well, although\n",
    "there is still place for future improvement to better function on the forex market. "
   ]
  }
 ],
 "metadata": {
  "kernelspec": {
   "display_name": "Python 3 (ipykernel)",
   "language": "python",
   "name": "python3"
  },
  "language_info": {
   "codemirror_mode": {
    "name": "ipython",
    "version": 3
   },
   "file_extension": ".py",
   "mimetype": "text/x-python",
   "name": "python",
   "nbconvert_exporter": "python",
   "pygments_lexer": "ipython3",
   "version": "3.9.12"
  }
 },
 "nbformat": 4,
 "nbformat_minor": 5
}
